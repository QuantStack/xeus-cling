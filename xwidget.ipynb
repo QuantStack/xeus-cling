{
 "cells": [
  {
   "cell_type": "code",
   "execution_count": 1,
   "metadata": {},
   "outputs": [],
   "source": [
    "#include \"xeus/xcomm.hpp\"\n",
    "#include \"xproperty/xobserved.hpp\"\n",
    "\n",
    "#include <string>\n",
    "#include <iostream>\n",
    "\n",
    "   \n",
    "inline void xwidget_comm_opened(const xeus::xcomm& comm, const xeus::xmessage& msg)\n",
    "{\n",
    "    std::cout << \"Hello World\" << std::endl;\n",
    "}"
   ]
  },
  {
   "cell_type": "code",
   "execution_count": 2,
   "metadata": {},
   "outputs": [],
   "source": [
    "auto& interpreter = xeus::get_interpreter();\n",
    "interpreter.comm_manager().register_comm_target(\"jupyter.widget\", xwidget_comm_opened);\n",
    "\n",
    "auto& manager = interpreter.comm_manager();\n",
    "auto target = manager.target(\"jupyter.widget\");"
   ]
  },
  {
   "cell_type": "code",
   "execution_count": 3,
   "metadata": {
    "collapsed": true
   },
   "outputs": [],
   "source": [
    "namespace xeus\n",
    "{\n",
    "\n",
    "    template <class D>\n",
    "    class xobject : public xp::xobserved<D>\n",
    "    {\n",
    "    public:\n",
    "\n",
    "        xobject() : m_comm(get_interpreter().comm_manager().target(target_name), xguid())\n",
    "        {\n",
    "            set_defaults();\n",
    "        }\n",
    "        \n",
    "        inline void set_defaults()\n",
    "        {\n",
    "            _model_module.raw_value() = \"jupyter-js-widgets\";\n",
    "            _model_module_version.raw_value() = \"~2.1.4\";\n",
    "            _model_name.raw_value() = \"WidgetModel\";\n",
    "            _view_module.raw_value() = \"jupyter-js-widgets\";\n",
    "            _view_module_version.raw_value() = \"~2.1.4\";\n",
    "            _view_name.raw_value() = \"WidgetView\";\n",
    "        }\n",
    "\n",
    "        inline xjson get_state() const\n",
    "        {\n",
    "            xjson state;\n",
    "            state[\"_model_module\"] = _model_module.raw_value();\n",
    "            state[\"_model_module_version\"] = _model_module_version.raw_value();\n",
    "            state[\"_model_name\"] = _model_name.raw_value();\n",
    "            state[\"_view_module\"] = _view_module.raw_value();\n",
    "            state[\"_view_module_version\"] = _view_module_version.raw_value();\n",
    "            state[\"_view_name\"] = _view_name.raw_value();\n",
    "            return state;\n",
    "        }\n",
    "\n",
    "        inline xguid id() const noexcept\n",
    "        {\n",
    "            return m_comm.id();\n",
    "        }\n",
    "\n",
    "        // TODO: make these property optional (allow none)\n",
    "        XPROPERTY(std::string, D, _model_module);\n",
    "        XPROPERTY(std::string, D, _model_module_version);\n",
    "        XPROPERTY(std::string, D, _model_name);\n",
    "        XPROPERTY(std::string, D, _view_module);\n",
    "        XPROPERTY(std::string, D, _view_module_version);\n",
    "        XPROPERTY(std::string, D, _view_name);\n",
    "\n",
    "        inline void display() const\n",
    "        {\n",
    "            xeus::xjson display_data = R\"(\n",
    "            {\n",
    "                \"application/vnd.jupyter.widget-view+json\": {\n",
    "                    \"version_major\": \"2\",\n",
    "                    \"version_minor\": \"0\"\n",
    "                }\n",
    "            }\n",
    "            )\"_json;\n",
    "\n",
    "            display_data[\"application/vnd.jupyter.widget-view+json\"][\"model_id\"] = \n",
    "                xeus::guid_to_hex(this->derived_cast().id());\n",
    "            \n",
    "            get_interpreter().display_data(\n",
    "                std::move(display_data),\n",
    "                xeus::xjson::object(),\n",
    "                xeus::xjson::object()\n",
    "            );\n",
    "            \n",
    "            xeus::xjson comm_display = R\"(\n",
    "            {\n",
    "                \"data\": {\n",
    "                    \"method\": \"display\"\n",
    "                }\n",
    "            }\n",
    "            )\"_json;\n",
    "\n",
    "            comm_display[\"comm_id\"] =  xeus::guid_to_hex(this->derived_cast().id());\n",
    "\n",
    "            get_interpreter().comm_manager().target(target_name)->publish_message(\"comm_msg\", xeus::xjson::object(), std::move(comm_display));  \n",
    "        }\n",
    "\n",
    "    protected:\n",
    "\n",
    "        xcomm m_comm;\n",
    "\n",
    "        static const char* target_name;\n",
    "    };\n",
    "\n",
    "    // In the cpp (multiple inheritance)\n",
    "    template <class D>\n",
    "    const char* xeus::xobject<D>::target_name = \"jupyter.widget\";\n",
    "    \n",
    "    template <class D>\n",
    "    void to_json(xjson& j, const xobject<D>& o)\n",
    "    {\n",
    "        j = \"IPY_MODEL_\" + guid_to_hex(o.id());\n",
    "    }\n",
    "}"
   ]
  },
  {
   "cell_type": "code",
   "execution_count": 4,
   "metadata": {
    "collapsed": true
   },
   "outputs": [],
   "source": [
    "namespace xeus\n",
    "{\n",
    "    template <class T>\n",
    "    class slider : public xobject<slider<T>>\n",
    "    {\n",
    "    public:\n",
    "\n",
    "        using base_type = xobject<slider<T>>;\n",
    "\n",
    "        slider() : base_type()\n",
    "        {\n",
    "            set_defaults();\n",
    "            base_type::m_comm.open(xjson::object(), get_state());\n",
    "        }\n",
    "    \n",
    "        XPROPERTY(double, slider, value);\n",
    "\n",
    "        inline void set_defaults()\n",
    "        {\n",
    "            base_type::_model_name.raw_value() = \"FloatSliderModel\";\n",
    "            base_type::_view_name.raw_value() = \"FloatSliderView\";\n",
    "        }\n",
    "\n",
    "        inline xjson get_state() const\n",
    "        {\n",
    "            xjson state = base_type::get_state();\n",
    "            state[\"value\"] = value.raw_value();\n",
    "            return state;\n",
    "        }\n",
    "    };\n",
    "}"
   ]
  },
  {
   "cell_type": "code",
   "execution_count": 5,
   "metadata": {},
   "outputs": [
    {
     "data": {
      "application/vnd.jupyter.widget-view+json": {
       "model_id": "9f82a74c30af4d6d97efeba43964dda8",
       "version_major": "2",
       "version_minor": "0"
      }
     },
     "metadata": {},
     "output_type": "display_data"
    }
   ],
   "source": [
    "xeus::slider<double> slider;\n",
    "slider.display()"
   ]
  },
  {
   "cell_type": "code",
   "execution_count": null,
   "metadata": {
    "collapsed": true
   },
   "outputs": [],
   "source": []
  }
 ],
 "metadata": {
  "kernelspec": {
   "display_name": "xeus C++14",
   "language": "",
   "name": "xeus-cling-cpp14"
  },
  "language_info": {
   "codemirror_mode": "text/x-c++src",
   "file_extension": ".cpp",
   "mimetype": "text/x-c++src",
   "name": "c++",
   "version": ""
  }
 },
 "nbformat": 4,
 "nbformat_minor": 2
}
