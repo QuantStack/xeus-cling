{
 "cells": [
  {
   "cell_type": "code",
   "execution_count": 1,
   "metadata": {
    "collapsed": true
   },
   "outputs": [],
   "source": [
    "#include \"xeus/xcomm.hpp\"\n",
    "#include \"xproperty/xobserved.hpp\"\n",
    "\n",
    "#include <string>\n",
    "#include <iostream>\n",
    "#include <array>\n",
    "#include <vector>\n",
    "#include <type_traits>\n",
    "\n",
    "inline void xwidget_comm_opened(const xeus::xcomm& comm, const xeus::xmessage& msg)\n",
    "{\n",
    "    std::cout << \"Hello World\" << std::endl;\n",
    "}\n",
    "\n",
    "auto& interpreter = xeus::get_interpreter();\n",
    "interpreter.comm_manager().register_comm_target(\"jupyter.widget\", xwidget_comm_opened);"
   ]
  },
  {
   "cell_type": "code",
   "execution_count": 2,
   "metadata": {
    "collapsed": true
   },
   "outputs": [],
   "source": [
    "namespace xeus\n",
    "{\n",
    "\n",
    "    template <class D>\n",
    "    class xobject : public xp::xobserved<D>\n",
    "    {\n",
    "    public:\n",
    "\n",
    "        using base_type = xp::xobserved<D>;\n",
    "        using derived_type = D;\n",
    "\n",
    "        inline derived_type& derived_cast() & noexcept\n",
    "        {\n",
    "            return *static_cast<derived_type*>(this);\n",
    "        }\n",
    "\n",
    "        inline const derived_type& derived_cast() const& noexcept\n",
    "        {\n",
    "            return *static_cast<const derived_type*>(this);\n",
    "        }\n",
    "        \n",
    "        inline derived_type derived_cast() && noexcept\n",
    "        {\n",
    "            return *static_cast<derived_type*>(this);\n",
    "        }\n",
    "\n",
    "        xobject() : m_comm(get_interpreter().comm_manager().target(target_name), xguid())\n",
    "        {\n",
    "            set_defaults();\n",
    "        }\n",
    "\n",
    "        inline xguid id() const noexcept\n",
    "        {\n",
    "            return m_comm.id();\n",
    "        }\n",
    "\n",
    "        inline void display() const\n",
    "        {\n",
    "            xeus::xjson display_data = R\"(\n",
    "            {\n",
    "                \"application/vnd.jupyter.widget-view+json\": {\n",
    "                    \"version_major\": \"2\",\n",
    "                    \"version_minor\": \"0\"\n",
    "                }\n",
    "            }\n",
    "            )\"_json;\n",
    "\n",
    "            display_data[\"application/vnd.jupyter.widget-view+json\"][\"model_id\"] = \n",
    "                xeus::guid_to_hex(this->derived_cast().id());\n",
    "            \n",
    "            get_interpreter().display_data(\n",
    "                std::move(display_data),\n",
    "                xeus::xjson::object(),\n",
    "                xeus::xjson::object()\n",
    "            );\n",
    "            \n",
    "            xeus::xjson comm_display = R\"(\n",
    "            {\n",
    "                \"data\": {\n",
    "                    \"method\": \"display\"\n",
    "                }\n",
    "            }\n",
    "            )\"_json;\n",
    "\n",
    "            comm_display[\"comm_id\"] =  xeus::guid_to_hex(this->derived_cast().id());\n",
    "\n",
    "            get_interpreter().comm_manager().target(target_name)->publish_message(\"comm_msg\", xeus::xjson::object(), std::move(comm_display));  \n",
    "        }\n",
    "\n",
    "        // TODO: make these property optional (allow none)\n",
    "        XPROPERTY(std::string, derived_type, _model_module);\n",
    "        XPROPERTY(std::string, derived_type, _model_module_version);\n",
    "        XPROPERTY(std::string, derived_type, _model_name);\n",
    "        XPROPERTY(std::string, derived_type, _view_module);\n",
    "        XPROPERTY(std::string, derived_type, _view_module_version);\n",
    "        XPROPERTY(std::string, derived_type, _view_name);\n",
    "\n",
    "        inline xjson get_state() const\n",
    "        {\n",
    "            xjson state;\n",
    "            state[\"_model_module\"] = _model_module.raw_value();\n",
    "            state[\"_model_module_version\"] = _model_module_version.raw_value();\n",
    "            state[\"_model_name\"] = _model_name.raw_value();\n",
    "            state[\"_view_module\"] = _view_module.raw_value();\n",
    "            state[\"_view_module_version\"] = _view_module_version.raw_value();\n",
    "            state[\"_view_name\"] = _view_name.raw_value();\n",
    "            return state;\n",
    "        }\n",
    "\n",
    "    protected:\n",
    "        \n",
    "        inline void open()\n",
    "        {\n",
    "            m_comm.open(xjson::object(), derived_cast().get_state());\n",
    "        }\n",
    "\n",
    "    private:\n",
    "    \n",
    "        inline void set_defaults()\n",
    "        {\n",
    "            _model_module.raw_value() = \"jupyter-js-widgets\";\n",
    "            _model_module_version.raw_value() = \"~2.1.4\";\n",
    "            _model_name.raw_value() = \"WidgetModel\";\n",
    "            _view_module.raw_value() = \"jupyter-js-widgets\";\n",
    "            _view_module_version.raw_value() = \"~2.1.4\";\n",
    "            _view_name.raw_value() = \"WidgetView\";\n",
    "        }\n",
    "\n",
    "        xcomm m_comm;\n",
    "\n",
    "        static const char* target_name;\n",
    "    };\n",
    "\n",
    "    // In the cpp (multiple inheritance)\n",
    "    template <class D>\n",
    "    const char* xeus::xobject<D>::target_name = \"jupyter.widget\";\n",
    "    \n",
    "    template <class D>\n",
    "    void to_json(xjson& j, const xobject<D>& o)\n",
    "    {\n",
    "        j = \"IPY_MODEL_\" + guid_to_hex(o.id());\n",
    "    }\n",
    "}\n"
   ]
  },
  {
   "cell_type": "code",
   "execution_count": 3,
   "metadata": {
    "collapsed": true
   },
   "outputs": [],
   "source": [
    "namespace xeus\n",
    "{\n",
    "    class layout final : public xobject<layout>\n",
    "    {\n",
    "    public:\n",
    "\n",
    "        using base_type = xobject<layout>;\n",
    "\n",
    "        layout() : base_type()\n",
    "        {\n",
    "            set_defaults();\n",
    "            this->open();\n",
    "        }\n",
    "\n",
    "        inline xjson get_state() const\n",
    "        {\n",
    "            xjson state = base_type::get_state();\n",
    "            return state;\n",
    "        }\n",
    "\n",
    "    private:\n",
    "\n",
    "        inline void set_defaults()\n",
    "        {\n",
    "            base_type::_model_name.raw_value() = \"LayoutModel\";\n",
    "            base_type::_view_name.raw_value() = \"LayoutView\";\n",
    "        }\n",
    "    };\n",
    "}"
   ]
  },
  {
   "cell_type": "code",
   "execution_count": 4,
   "metadata": {
    "collapsed": true
   },
   "outputs": [],
   "source": [
    "namespace xeus\n",
    "{\n",
    "    template <class D>\n",
    "    class xwidget : public xobject<D>\n",
    "    {\n",
    "    public:\n",
    "\n",
    "        using base_type = xobject<D>;\n",
    "        using derived_type = D;\n",
    "\n",
    "        xwidget() : base_type()\n",
    "        {\n",
    "            set_defaults();\n",
    "        }\n",
    "    \n",
    "        XPROPERTY(::xeus::layout, derived_type, layout);\n",
    "\n",
    "        inline xjson get_state() const\n",
    "        {\n",
    "            xjson state = base_type::get_state();\n",
    "            state[\"layout\"] = layout.raw_value();\n",
    "            return state;\n",
    "        }        \n",
    "        \n",
    "    private:\n",
    "\n",
    "        inline void set_defaults()\n",
    "        {\n",
    "            base_type::_model_name.raw_value() = \"DOMWidgetModel\";\n",
    "            base_type::_view_name.raw_value() = \"DOMWidgetView\";\n",
    "            layout.raw_value() = ::xeus::layout();\n",
    "        }\n",
    "    };\n",
    "}"
   ]
  },
  {
   "cell_type": "code",
   "execution_count": 5,
   "metadata": {
    "collapsed": true
   },
   "outputs": [],
   "source": [
    "namespace xeus\n",
    "{\n",
    "    template <class T>\n",
    "    class slider final : public xwidget<slider<T>>\n",
    "    {\n",
    "    public:\n",
    "\n",
    "        using base_type = xwidget<slider<T>>;\n",
    "\n",
    "        slider() : base_type()\n",
    "        {\n",
    "            set_defaults();\n",
    "            this->open();\n",
    "        }\n",
    "\n",
    "        XPROPERTY(double, slider, value);\n",
    "\n",
    "        inline xjson get_state() const\n",
    "        {\n",
    "            xjson state = base_type::get_state();\n",
    "            state[\"value\"] = value.raw_value();\n",
    "            return state;\n",
    "        }\n",
    "\n",
    "    private:\n",
    "\n",
    "        inline void set_defaults()\n",
    "        {\n",
    "            base_type::_model_name.raw_value() = \"FloatSliderModel\";\n",
    "            base_type::_view_name.raw_value() = \"FloatSliderView\";\n",
    "        }\n",
    "    };\n",
    "}"
   ]
  },
  {
   "cell_type": "code",
   "execution_count": 6,
   "metadata": {},
   "outputs": [
    {
     "data": {
      "application/vnd.jupyter.widget-view+json": {
       "model_id": "61095becd179496fa34484bbac22da83",
       "version_major": "2",
       "version_minor": "0"
      }
     },
     "metadata": {},
     "output_type": "display_data"
    }
   ],
   "source": [
    "xeus::slider<double> slider;\n",
    "slider.display()"
   ]
  },
  {
   "cell_type": "code",
   "execution_count": 7,
   "metadata": {},
   "outputs": [
    {
     "data": {
      "application/vnd.jupyter.widget-view+json": {
       "model_id": "61095becd179496fa34484bbac22da83",
       "version_major": "2",
       "version_minor": "0"
      }
     },
     "metadata": {},
     "output_type": "display_data"
    }
   ],
   "source": [
    "slider.display()"
   ]
  },
  {
   "cell_type": "code",
   "execution_count": 8,
   "metadata": {},
   "outputs": [
    {
     "data": {
      "application/vnd.jupyter.widget-view+json": {
       "model_id": "61095becd179496fa34484bbac22da83",
       "version_major": "2",
       "version_minor": "0"
      }
     },
     "metadata": {},
     "output_type": "display_data"
    }
   ],
   "source": [
    "slider.display()"
   ]
  },
  {
   "cell_type": "code",
   "execution_count": 9,
   "metadata": {
    "collapsed": true
   },
   "outputs": [],
   "source": [
    "namespace xeus\n",
    "{\n",
    "    class map final : public xobject<map>\n",
    "    {\n",
    "    public:\n",
    "\n",
    "        using base_type = xobject<map>;\n",
    "        using location_type = std::array<double, 2>;\n",
    "        using options_type = std::vector<std::string>;\n",
    "\n",
    "        map() : base_type()\n",
    "        {\n",
    "            set_defaults();\n",
    "            this->open();\n",
    "        }\n",
    "\n",
    "        XPROPERTY(unsigned int, map, max_zoom);\n",
    "        XPROPERTY(unsigned int, map, min_zoom);\n",
    "        XPROPERTY(unsigned int, map, zoom);\n",
    "        XPROPERTY(location_type, map, center);\n",
    "        XPROPERTY(options_type, map, options);\n",
    "        \n",
    "        inline xjson get_state() const\n",
    "        {\n",
    "            xjson state = base_type::get_state();\n",
    "            state[\"zoom\"] = zoom.raw_value();\n",
    "            state[\"max_zoom\"] = max_zoom.raw_value();\n",
    "            state[\"min_zoom\"] = min_zoom.raw_value();\n",
    "            state[\"center\"] = center.raw_value();\n",
    "            state[\"options\"] = options.raw_value();\n",
    "            return state;\n",
    "        }\n",
    "\n",
    "    private:\n",
    "\n",
    "        inline void set_defaults()\n",
    "        {\n",
    "            _model_module.raw_value() = \"jupyter-leaflet\";\n",
    "            _model_module_version.raw_value() = \"^0.3.0\";        \n",
    "            _model_name.raw_value() = \"LeafletMapModel\";\n",
    "            _view_module.raw_value() = \"jupyter-leaflet\";\n",
    "            _view_module_version.raw_value() = \"^0.3.0\";\n",
    "            _view_name.raw_value() = \"LeafletMapView\";\n",
    "            zoom.raw_value() = 12;\n",
    "            max_zoom.raw_value() = 20;\n",
    "            min_zoom.raw_value() = 1;\n",
    "            center.raw_value() = {0.0, 0.0};\n",
    "            options.raw_value() = {\"attribution_control\", \"bounce_at_zoom_limits\", \"box_zoom\", \"center\", \"close_popup_on_click\", \"double_click_zoom\", \"dragging\", \"inertia\", \"inertia_deceleration\", \"inertia_max_speed\", \"keyboard\", \"keyboard_pan_offset\", \"keyboard_zoom_offset\", \"max_zoom\", \"min_zoom\", \"scroll_wheel_zoom\", \"tap\", \"tap_tolerance\", \"touch_zoom\", \"world_copy_jump\", \"zoom\", \"zoom_animation_threshold\", \"zoom_control\", \"zoom_start\"};\n",
    "        }\n",
    "    };\n",
    "}"
   ]
  },
  {
   "cell_type": "code",
   "execution_count": 10,
   "metadata": {},
   "outputs": [
    {
     "data": {
      "application/vnd.jupyter.widget-view+json": {
       "model_id": "501a227304c44004af0c6a739e0ae2bf",
       "version_major": "2",
       "version_minor": "0"
      }
     },
     "metadata": {},
     "output_type": "display_data"
    }
   ],
   "source": [
    "xeus::map m;\n",
    "m.display()"
   ]
  },
  {
   "cell_type": "code",
   "execution_count": null,
   "metadata": {
    "collapsed": true
   },
   "outputs": [],
   "source": []
  }
 ],
 "metadata": {
  "kernelspec": {
   "display_name": "xeus C++14",
   "language": "",
   "name": "xeus-cling-cpp14"
  },
  "language_info": {
   "codemirror_mode": "text/x-c++src",
   "file_extension": ".cpp",
   "mimetype": "text/x-c++src",
   "name": "c++",
   "version": ""
  }
 },
 "nbformat": 4,
 "nbformat_minor": 2
}
