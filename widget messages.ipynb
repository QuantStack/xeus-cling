{
 "cells": [
  {
   "cell_type": "code",
   "execution_count": 1,
   "metadata": {
    "collapsed": true
   },
   "outputs": [],
   "source": [
    "#include \"xeus/xcomm.hpp\""
   ]
  },
  {
   "cell_type": "markdown",
   "metadata": {},
   "source": [
    "# Target"
   ]
  },
  {
   "cell_type": "code",
   "execution_count": 2,
   "metadata": {
    "collapsed": true
   },
   "outputs": [],
   "source": [
    "namespace xeus\n",
    "{\n",
    "    static inline void xwidget_comm_opened(const xcomm& comm, const xeus::xmessage& msg)\n",
    "    {\n",
    "        std::cout << \"Hello World\" << std::endl;\n",
    "    }\n",
    "}"
   ]
  },
  {
   "cell_type": "code",
   "execution_count": 3,
   "metadata": {
    "collapsed": true
   },
   "outputs": [],
   "source": [
    "auto& interpreter = ::xeus::get_interpreter();\n",
    "interpreter.comm_manager().register_comm_target(\"jupyter.widget\", xeus::xwidget_comm_opened);\n",
    "\n",
    "auto& manager = interpreter.comm_manager();\n",
    "auto target = manager.target(\"jupyter.widget\");"
   ]
  },
  {
   "cell_type": "markdown",
   "metadata": {},
   "source": [
    "# Models"
   ]
  },
  {
   "cell_type": "code",
   "execution_count": 4,
   "metadata": {
    "collapsed": true
   },
   "outputs": [],
   "source": [
    "xeus::xcomm layout_comm(target, xeus::xguid());\n",
    "xeus::xjson layout_data = R\"(\n",
    "{\n",
    "    \"_model_module\": \"jupyter-js-widgets\",\n",
    "    \"_model_module_version\": \"~2.1.4\",\n",
    "    \"_model_name\": \"LayoutModel\",\n",
    "    \"_view_module\": \"jupyter-js-widgets\",\n",
    "    \"_view_module_version\": \"~2.1.4\",\n",
    "    \"_view_name\": \"LayoutView\"\n",
    "}\n",
    ")\"_json;\n",
    "\n",
    "layout_comm.open(xeus::xjson::object(), std::move(layout_data))"
   ]
  },
  {
   "cell_type": "code",
   "execution_count": 5,
   "metadata": {
    "collapsed": true
   },
   "outputs": [],
   "source": [
    "xeus::xcomm slider_comm(target, xeus::xguid());\n",
    "xeus::xjson slider_data = R\"(\n",
    "{\n",
    "    \"_model_module\": \"jupyter-js-widgets\",\n",
    "    \"_model_module_version\": \"~2.1.4\",\n",
    "    \"_model_name\": \"IntSliderModel\",\n",
    "    \"_view_module\": \"jupyter-js-widgets\",\n",
    "    \"_view_module_version\": \"~2.1.4\",\n",
    "    \"_view_name\": \"IntSliderView\",\n",
    "    \"value\": \"50\"\n",
    "}\n",
    ")\"_json;\n",
    "\n",
    "slider_data[\"layout\"] = \"IPY_MODEL_\" + xeus::guid_to_hex(layout_comm.id());\n",
    "slider_comm.open(xeus::xjson::object(), std::move(slider_data))"
   ]
  },
  {
   "cell_type": "markdown",
   "metadata": {},
   "source": [
    "# Display"
   ]
  },
  {
   "cell_type": "code",
   "execution_count": 6,
   "metadata": {},
   "outputs": [
    {
     "data": {
      "application/vnd.jupyter.widget-view+json": {
       "model_id": "913829a94c8d411ba40b3b7bb7bf201e",
       "version_major": "2",
       "version_minor": "0"
      }
     },
     "metadata": {},
     "output_type": "display_data"
    }
   ],
   "source": [
    "xeus::xjson display_data = R\"(\n",
    "{\n",
    "    \"application/vnd.jupyter.widget-view+json\": {\n",
    "        \"version_major\": \"2\",\n",
    "        \"version_minor\": \"0\"\n",
    "    }\n",
    "}\n",
    ")\"_json;\n",
    "\n",
    "display_data[\"application/vnd.jupyter.widget-view+json\"][\"model_id\"] = xeus::guid_to_hex(slider_comm.id());\n",
    "\n",
    "interpreter.display_data(\n",
    "    std::move(display_data),\n",
    "    xeus::xjson::object(),\n",
    "    xeus::xjson::object()\n",
    ")"
   ]
  },
  {
   "cell_type": "code",
   "execution_count": 7,
   "metadata": {
    "collapsed": true
   },
   "outputs": [],
   "source": [
    "xeus::xjson comm_display = R\"(\n",
    "{\n",
    "    \"data\": {\n",
    "        \"method\": \"display\"\n",
    "    }\n",
    "}\n",
    ")\"_json;\n",
    "\n",
    "comm_display[\"comm_id\"] =  xeus::guid_to_hex(slider_comm.id());\n",
    "\n",
    "target->publish_message(\"comm_msg\", xeus::xjson::object(), std::move(comm_display));"
   ]
  }
 ],
 "metadata": {
  "kernelspec": {
   "display_name": "xeus C++14",
   "language": "",
   "name": "xeus-cling-cpp14"
  },
  "language_info": {
   "codemirror_mode": "text/x-c++src",
   "file_extension": ".cpp",
   "mimetype": "text/x-c++src",
   "name": "c++",
   "version": ""
  }
 },
 "nbformat": 4,
 "nbformat_minor": 2
}
