{
 "cells": [
  {
   "cell_type": "code",
   "execution_count": 1,
   "metadata": {
    "collapsed": true
   },
   "outputs": [],
   "source": [
    "#include \"xproperty/xobserved.hpp\"\n",
    "\n",
    "struct Foo : public xp::xobserved<Foo>\n",
    "{\n",
    "    XPROPERTY(double, Foo, bar);\n",
    "    XPROPERTY(double, Foo, baz);\n",
    "};"
   ]
  },
  {
   "cell_type": "code",
   "execution_count": 2,
   "metadata": {
    "collapsed": true
   },
   "outputs": [],
   "source": [
    "Foo foo;\n",
    "\n",
    "XOBSERVE(foo, bar, [](const Foo& f) \n",
    "{\n",
    "    std::cout << \"Observer: New value of bar: \" << f.bar;\n",
    "});\n",
    "\n",
    "XVALIDATE(foo, bar, [](const Foo&, double proposal) \n",
    "{\n",
    "    std::cout << \"Validator: Proposal: \" << proposal << std::endl;\n",
    "    if (proposal < 0)\n",
    "    {\n",
    "        throw std::runtime_error(\"Only non-negative values are valid.\");\n",
    "    }\n",
    "    return proposal;\n",
    "});"
   ]
  },
  {
   "cell_type": "code",
   "execution_count": 3,
   "metadata": {},
   "outputs": [
    {
     "data": {
      "text/plain": [
       "Validator: Proposal: 1\n",
       "Observer: New value of bar: 1(double) 1.000000\n"
      ]
     },
     "execution_count": 3,
     "metadata": {},
     "output_type": "execute_result"
    }
   ],
   "source": [
    "foo.bar = 1.0"
   ]
  },
  {
   "cell_type": "code",
   "execution_count": 4,
   "metadata": {
    "collapsed": true
   },
   "outputs": [],
   "source": [
    "foo.baz = 2.0;"
   ]
  },
  {
   "cell_type": "code",
   "execution_count": 5,
   "metadata": {},
   "outputs": [
    {
     "data": {
      "text/plain": [
       "Validator: Proposal: -1\n",
       "Caught a std::exception!\n",
       "Only non-negative values are valid.\n"
      ]
     },
     "execution_count": 5,
     "metadata": {},
     "output_type": "execute_result"
    }
   ],
   "source": [
    "foo.bar = -1.0;"
   ]
  },
  {
   "cell_type": "code",
   "execution_count": 7,
   "metadata": {},
   "outputs": [
    {
     "data": {
      "text/plain": [
       "(double) 1.000000\n"
      ]
     },
     "execution_count": 7,
     "metadata": {},
     "output_type": "execute_result"
    }
   ],
   "source": [
    "double(foo.bar)"
   ]
  },
  {
   "cell_type": "code",
   "execution_count": 6,
   "metadata": {},
   "outputs": [
    {
     "data": {
      "text/plain": [
       "Validator: Proposal: 2\n",
       "Observer: New value of bar: 2"
      ]
     },
     "execution_count": 6,
     "metadata": {},
     "output_type": "execute_result"
    }
   ],
   "source": [
    "foo.bar = 2.0;"
   ]
  }
 ],
 "metadata": {
  "kernelspec": {
   "display_name": "xeus C++14",
   "language": "",
   "name": "xeus-cling-cpp14"
  },
  "language_info": {
   "codemirror_mode": "text/x-c++src",
   "file_extension": ".cpp",
   "mimetype": "text/x-c++src",
   "name": "c++",
   "version": ""
  }
 },
 "nbformat": 4,
 "nbformat_minor": 2
}
